
Explain
Skip to main content
Zomato Data Analysis.ipynb
Zomato Data Analysis.ipynb_
All changes saved
Zomato Data Analysis Project
Step 1 - Importing libraries

[1]
2s
import pandas as pd
import numpy as np
import matplotlib.pyplot as plt
import seaborn as sns

Step 2 - Create the DataFrame

[2]
0s
zomato_df=pd.read_csv("/content/Zomato data .csv")
zomato_df.head()

Next steps:
Data Cleaning and Processing
Convert the data type of column - rate


[3]
0s
def convert_rate(value):
  value=str(value).split('/')
  value=value[0]
  return float(value)

zomato_df['rate']=zomato_df['rate'].apply(convert_rate)
zomato_df.head()

Next steps:
check if there is a null

[4]
0s
zomato_df.isnull().sum()
#or 
zomato_df.info()
<class 'pandas.core.frame.DataFrame'>
RangeIndex: 148 entries, 0 to 147
Data columns (total 7 columns):
 #   Column                       Non-Null Count  Dtype  
---  ------                       --------------  -----  
 0   name                         148 non-null    object 
 1   online_order                 148 non-null    object 
 2   book_table                   148 non-null    object 
 3   rate                         148 non-null    float64
 4   votes                        148 non-null    int64  
 5   approx_cost(for two people)  148 non-null    int64  
 6   listed_in(type)              148 non-null    object 
dtypes: float64(1), int64(2), object(4)
memory usage: 8.2+ KB
Type of Restaurant

[5]
0s
zomato_df.head()

Next steps:

[6]
0s
sns.set_theme()
sns.countplot(x=zomato_df['listed_in(type)'],hue=zomato_df['listed_in(type)'])
plt.xlabel("Type of Restaurant")


[7]
0s
zomato_df.shape
(148, 7)
Conclusion : Majority of the Customer orders are from Dining

[8]
0s
zomato_df.head()

Next steps:

[9]
0s
grouped_data=zomato_df.groupby('listed_in(type)')['votes'].sum()
result=pd.DataFrame({'votes':grouped_data})
plt.plot(result,c='blue',marker="o")
plt.xlabel("Type of restaurant",c='red',size=20)
plt.ylabel("Votes",c='red',size=20)

Conclusion - dining restaurants has received maximum votes

[10]
0s
zomato_df.head()

Next steps:

[11]
1s
plt.hist(x=zomato_df['rate'],bins=5)
plt.title("ratings distribution ")
plt.show()

Conclusion - the majority restaurants received ratings from 3.5 to 4.0
Average order spending by couples

[12]
0s
zomato_df.head()

Next steps:

[18]
1s
coupled_data=zomato_df['approx_cost(for two people)']
plt.figure(figsize=(10,5))

sns.countplot(x=coupled_data,hue=coupled_data)
plt.show()

Conclusion - Majority of the couples prefer restaurants with an approximate cost of Rs 300

[19]
0s
zomato_df.head()

Next steps:

[28]
0s
plt.figure(figsize=(10,5))
sns.boxplot(x='online_order',y='rate',data=zomato_df,palette="muted")
plt.show()

Conclusion - Offline orders receives lower rating in comparison to online orders

[29]
pivot_table=zomato_df.pivot_table(index='listed_in(type)',columns='online_order',aggfunc='size',fill_value=0)
sns.heatmap(pivot_table,annot=True,cmap='YlGnBu',fmt='d')
plt.title("Heatmap")
plt.xlabel("Online Order")
plt.ylabel("Type of Restaurant")
plt.show()

Conclusion- Dining restaurants primarily accept offline order whereas cafes primarily received online orders.This suggests that clients prefers orders in person at restaurants but prefer orderinng online at cafes

[ ]
Colab paid products - Cancel contracts here

  0s
completed at 10:21 PM
ylabel: str, Set the label for the y-axis. Parameters ---------- ylabel : str &nbsp;&nbsp;&nbsp;&nbsp;The label text. labelpad : float, default: `axes.labelpad` &nbsp;&nbsp;&nbsp;&nbsp;Spacing in points from the Axes bounding box including ticks and tick labels. If None, the previous value is left as is. loc : {'bottom', 'center', 'top'}, default: `yaxis.labellocation` &nbsp;&nbsp;&nbsp;&nbsp;The label position. This is a high-level alternative for passing parameters \*y\* and \*horizontalalignment\*. Other Parameters ---------------- \*\*kwargs : `~matplotlib.text.Text` properties &nbsp;&nbsp;&nbsp;&nbsp;`.Text` properties control the appearance of the label. See Also -------- text : Documents the properties supported by `.Text`., hint
